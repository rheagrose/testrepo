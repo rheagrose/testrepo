{
  "nbformat": 4,
  "nbformat_minor": 0,
  "metadata": {
    "colab": {
      "provenance": []
    },
    "kernelspec": {
      "name": "python3",
      "display_name": "Python 3"
    },
    "language_info": {
      "name": "python"
    }
  },
  "cells": [
    {
      "cell_type": "markdown",
      "source": [
        "# Data Science Tools and Ecosystems"
      ],
      "metadata": {
        "id": "0P7LS47AGRWn"
      }
    },
    {
      "cell_type": "markdown",
      "source": [
        "In this notebook, Data Science Tools and Ecosystem are summarized."
      ],
      "metadata": {
        "id": "UKwYMoDpHJND"
      }
    },
    {
      "cell_type": "markdown",
      "source": [
        "**Objectives:**\n",
        "\n",
        "\n",
        "*   List popular languages for Data Science\n",
        "*   List common libraries for Data Science\n",
        "*   Create markdown table displaying Data Science Tools\n",
        "*   Evaluate arithmetic in Python\n",
        "\n"
      ],
      "metadata": {
        "id": "I1EDbkZVRa6g"
      }
    },
    {
      "cell_type": "markdown",
      "source": [
        "Some of the popular languages that Data Scientists use are:\n",
        "1. Python\n",
        "2. SQL\n",
        "3. R"
      ],
      "metadata": {
        "id": "ISm9n7YpH38c"
      }
    },
    {
      "cell_type": "markdown",
      "source": [
        "Some of the commonly used libraries used by Data Scientists include:\n",
        "1. Keras\n",
        "2. TensorFlow\n",
        "3. SciKitLearn"
      ],
      "metadata": {
        "id": "jFtkhc-cJisZ"
      }
    },
    {
      "cell_type": "markdown",
      "source": [
        "| Data Science Tools|\n",
        "---------------------\n",
        "RStudio\n",
        "Apache Spark\n",
        "TensorFlow"
      ],
      "metadata": {
        "id": "A0OeexL1NYuj"
      }
    },
    {
      "cell_type": "markdown",
      "source": [
        "### Below are a few examples of evaluating arithmetic expressions in Python"
      ],
      "metadata": {
        "id": "C9vHdIklPNC4"
      }
    },
    {
      "cell_type": "code",
      "source": [
        "# this a simple arithmetic expression to mutiply then add integers\n",
        "(3*4)+5"
      ],
      "metadata": {
        "colab": {
          "base_uri": "https://localhost:8080/"
        },
        "id": "lfmZll-qH6VD",
        "outputId": "8734bc6a-c1eb-456f-d3bc-5c33447008f8"
      },
      "execution_count": 1,
      "outputs": [
        {
          "output_type": "execute_result",
          "data": {
            "text/plain": [
              "17"
            ]
          },
          "metadata": {},
          "execution_count": 1
        }
      ]
    },
    {
      "cell_type": "code",
      "execution_count": 2,
      "metadata": {
        "colab": {
          "base_uri": "https://localhost:8080/"
        },
        "id": "lc1WFNjNFZ86",
        "outputId": "822125f4-b6b7-424e-ec46-2e942dc500b2"
      },
      "outputs": [
        {
          "output_type": "stream",
          "name": "stdout",
          "text": [
            "3.3333333333333335\n"
          ]
        }
      ],
      "source": [
        "# This will convert 200 minutes to hours by diving by 60\n",
        "minutes = 200\n",
        "hours = minutes / 60\n",
        "print(hours)"
      ]
    },
    {
      "cell_type": "markdown",
      "source": [
        "## Author:\n",
        "Rhea Grose"
      ],
      "metadata": {
        "id": "TNeDr8epSxDW"
      }
    }
  ]
}